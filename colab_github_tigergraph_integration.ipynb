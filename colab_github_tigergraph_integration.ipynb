{
  "nbformat": 4,
  "nbformat_minor": 0,
  "metadata": {
    "colab": {
      "name": "Untitled1.ipynb",
      "provenance": [],
      "authorship_tag": "ABX9TyMv3S19EyG0A6n68PuVqus5",
      "include_colab_link": true
    },
    "kernelspec": {
      "name": "python3",
      "display_name": "Python 3"
    }
  },
  "cells": [
    {
      "cell_type": "markdown",
      "metadata": {
        "id": "view-in-github",
        "colab_type": "text"
      },
      "source": [
        "<a href=\"https://colab.research.google.com/github/mohittewari16/tigergraph/blob/main/colab_github_tigergraph_integration.ipynb\" target=\"_parent\"><img src=\"https://colab.research.google.com/assets/colab-badge.svg\" alt=\"Open In Colab\"/></a>"
      ]
    },
    {
      "cell_type": "code",
      "metadata": {
        "colab": {
          "base_uri": "https://localhost:8080/"
        },
        "id": "p8XQo2Xav10a",
        "outputId": "39db3282-2dd1-47af-ddf4-a04164ecbc0c"
      },
      "source": [
        "!pip install pyTigerGraph"
      ],
      "execution_count": 1,
      "outputs": [
        {
          "output_type": "stream",
          "text": [
            "Collecting pyTigerGraph\n",
            "  Downloading https://files.pythonhosted.org/packages/3c/78/72459e1cdc5ee88f7ffc0dbba38bbabffbf4b678454f8a93e879075f04c7/pyTigerGraph-0.0.9.6.3-py3-none-any.whl\n",
            "Collecting validators\n",
            "  Downloading https://files.pythonhosted.org/packages/db/2f/7fed3ee94ad665ad2c1de87f858f10a7785251ff75b4fd47987888d07ef1/validators-0.18.2-py3-none-any.whl\n",
            "Requirement already satisfied: pandas in /usr/local/lib/python3.7/dist-packages (from pyTigerGraph) (1.1.5)\n",
            "Requirement already satisfied: requests in /usr/local/lib/python3.7/dist-packages (from pyTigerGraph) (2.23.0)\n",
            "Requirement already satisfied: six>=1.4.0 in /usr/local/lib/python3.7/dist-packages (from validators->pyTigerGraph) (1.15.0)\n",
            "Requirement already satisfied: decorator>=3.4.0 in /usr/local/lib/python3.7/dist-packages (from validators->pyTigerGraph) (4.4.2)\n",
            "Requirement already satisfied: numpy>=1.15.4 in /usr/local/lib/python3.7/dist-packages (from pandas->pyTigerGraph) (1.19.5)\n",
            "Requirement already satisfied: pytz>=2017.2 in /usr/local/lib/python3.7/dist-packages (from pandas->pyTigerGraph) (2018.9)\n",
            "Requirement already satisfied: python-dateutil>=2.7.3 in /usr/local/lib/python3.7/dist-packages (from pandas->pyTigerGraph) (2.8.1)\n",
            "Requirement already satisfied: urllib3!=1.25.0,!=1.25.1,<1.26,>=1.21.1 in /usr/local/lib/python3.7/dist-packages (from requests->pyTigerGraph) (1.24.3)\n",
            "Requirement already satisfied: idna<3,>=2.5 in /usr/local/lib/python3.7/dist-packages (from requests->pyTigerGraph) (2.10)\n",
            "Requirement already satisfied: chardet<4,>=3.0.2 in /usr/local/lib/python3.7/dist-packages (from requests->pyTigerGraph) (3.0.4)\n",
            "Requirement already satisfied: certifi>=2017.4.17 in /usr/local/lib/python3.7/dist-packages (from requests->pyTigerGraph) (2020.12.5)\n",
            "Installing collected packages: validators, pyTigerGraph\n",
            "Successfully installed pyTigerGraph-0.0.9.6.3 validators-0.18.2\n"
          ],
          "name": "stdout"
        }
      ]
    },
    {
      "cell_type": "code",
      "metadata": {
        "id": "8KDc_65fv5dZ"
      },
      "source": [
        "import pyTigerGraph as tg\r\n",
        "import pandas as pd"
      ],
      "execution_count": 2,
      "outputs": []
    },
    {
      "cell_type": "code",
      "metadata": {
        "id": "FdMd-1--v7hY"
      },
      "source": [
        "TOKEN = \"2g0qqbjm66khdkno520c67071qc76956\""
      ],
      "execution_count": 3,
      "outputs": []
    },
    {
      "cell_type": "code",
      "metadata": {
        "id": "Vk1S1fBQ1CBW"
      },
      "source": [
        "conn = tg.TigerGraphConnection(host='https://49f1d3f648bd45b182194b99f3079057.i.tgcloud.io', graphname=\"custexp02\",\r\n",
        "                               username='tigergraph', password='password', apiToken=TOKEN, gsqlVersion='3.1.0',\r\n",
        "                               useCert = True\r\n",
        "                              )"
      ],
      "execution_count": 4,
      "outputs": []
    },
    {
      "cell_type": "code",
      "metadata": {
        "id": "fNzpilaS1fx5"
      },
      "source": [
        "#print(conn.gsql('ls'))"
      ],
      "execution_count": 6,
      "outputs": []
    },
    {
      "cell_type": "code",
      "metadata": {
        "colab": {
          "base_uri": "https://localhost:8080/"
        },
        "id": "6pS6th5j1ilN",
        "outputId": "17669445-33f1-470b-b6f9-b42ef8f5b25c"
      },
      "source": [
        "# print(conn.gsql('''\r\n",
        "#                 create vertex USER(PRIMARY_ID user_id int, address string, age int)\r\n",
        "\r\n",
        "#                 create vertex BOOK(PRIMARY_ID book_id int, book-title string, book-author string, year-of-publishing string, publisher string)\r\n",
        "\r\n",
        "#                 create undirected edge user_book_rating( from USER, TO BOOK, rating int)\r\n",
        "\r\n",
        "#                 '''))\r\n",
        "\r\n",
        "print(conn.gsql('''\r\n",
        "                create graph user_book_rating()\r\n",
        "                '''\r\n",
        "                ))"
      ],
      "execution_count": 10,
      "outputs": [
        {
          "output_type": "stream",
          "text": [
            "========================\n",
            "Trying version: v3_1_0\n",
            "Adding gsql-server host 49f1d3f648bd45b182194b99f3079057.i.tgcloud.io:14240\n",
            "WARNING: sun.reflect.Reflection.getCallerClass is not supported. This will impact performance.\n",
            "It's most likely your TigerGraph server has been upgraded.\n",
            "Please follow this document to obtain the corresponding GSQL client to the server:\n",
            "https://docs.tigergraph.com/dev/using-a-remote-gsql-client\n",
            "Supported Versions ( v3_1_0 v3_0_5 v3_0_0 v2_6_2 v2_6_0 v2_5_2 v2_5_0 v2_4_1 v2_4_0 v2_3_2 )\n",
            "You may use 'GSQL_CLIENT_VERSION=v? java ...' or \n",
            "    'java -DGSQL_CLIENT_VERSION=v? ...' to specify the version\n",
            "========================\n",
            "Trying version: v3_0_5\n",
            "Connecting to 49f1d3f648bd45b182194b99f3079057.i.tgcloud.io:14240\n",
            "If there is any relative path, it is relative to <System.AppRoot>/dev/gdk/gsql\n",
            "The graph user_book_rating is created.\n",
            "\n"
          ],
          "name": "stdout"
        }
      ]
    },
    {
      "cell_type": "code",
      "metadata": {
        "colab": {
          "base_uri": "https://localhost:8080/"
        },
        "id": "NYjNnuMjMJDp",
        "outputId": "884a3531-2aaa-4eca-89b9-1e885181359f"
      },
      "source": [
        "print(conn.gsql('''\r\n",
        "                use graph user_book_rating\r\n",
        "                create schema_change job add_vertex_and_edges for graph user_book_rating{\r\n",
        "                  add vertex USER(PRIMARY_ID user_id int, address string, age int);\r\n",
        "                  add vertex BOOK(PRIMARY_ID book_id int, book_title string, book_author string, year_of_publishing string, publisher string);\r\n",
        "                  add undirected edge user_rates_book( from USER, TO BOOK, rating int);\r\n",
        "                }\r\n",
        "                run schema_change job add_vertex_and_edges\r\n",
        "'''    \r\n",
        "))"
      ],
      "execution_count": 14,
      "outputs": [
        {
          "output_type": "stream",
          "text": [
            "========================\n",
            "Trying version: v3_1_0\n",
            "Adding gsql-server host 49f1d3f648bd45b182194b99f3079057.i.tgcloud.io:14240\n",
            "WARNING: sun.reflect.Reflection.getCallerClass is not supported. This will impact performance.\n",
            "It's most likely your TigerGraph server has been upgraded.\n",
            "Please follow this document to obtain the corresponding GSQL client to the server:\n",
            "https://docs.tigergraph.com/dev/using-a-remote-gsql-client\n",
            "Supported Versions ( v3_1_0 v3_0_5 v3_0_0 v2_6_2 v2_6_0 v2_5_2 v2_5_0 v2_4_1 v2_4_0 v2_3_2 )\n",
            "You may use 'GSQL_CLIENT_VERSION=v? java ...' or \n",
            "    'java -DGSQL_CLIENT_VERSION=v? ...' to specify the version\n",
            "========================\n",
            "Trying version: v3_0_5\n",
            "Connecting to 49f1d3f648bd45b182194b99f3079057.i.tgcloud.io:14240\n",
            "If there is any relative path, it is relative to <System.AppRoot>/dev/gdk/gsql\n",
            "Using graph 'user_book_rating'\n",
            "The job add_vertex_and_edges is created.\n",
            "\n",
            "Current graph version 0\n",
            "Trying to add vertex USER.\n",
            "Trying to add vertex BOOK.\n",
            "Trying to add edge user_rates_book.\n",
            "Kick off job add_vertex_and_edges\n",
            "\n",
            "Graph user_book_rating update to new version 1\n",
            "The job add_vertex_and_edges completes in 14.026 seconds!\n",
            "\n"
          ],
          "name": "stdout"
        }
      ]
    },
    {
      "cell_type": "code",
      "metadata": {
        "colab": {
          "base_uri": "https://localhost:8080/"
        },
        "id": "dRS2rfvdPdfS",
        "outputId": "3c1faed5-7877-4d83-e0d6-0131cf42bae8"
      },
      "source": [
        "print(conn.gsql('drop job add_vertex_and_edges'))"
      ],
      "execution_count": 18,
      "outputs": [
        {
          "output_type": "stream",
          "text": [
            "========================\n",
            "Trying version: v3_1_0\n",
            "Adding gsql-server host 49f1d3f648bd45b182194b99f3079057.i.tgcloud.io:14240\n",
            "WARNING: sun.reflect.Reflection.getCallerClass is not supported. This will impact performance.\n",
            "It's most likely your TigerGraph server has been upgraded.\n",
            "Please follow this document to obtain the corresponding GSQL client to the server:\n",
            "https://docs.tigergraph.com/dev/using-a-remote-gsql-client\n",
            "Supported Versions ( v3_1_0 v3_0_5 v3_0_0 v2_6_2 v2_6_0 v2_5_2 v2_5_0 v2_4_1 v2_4_0 v2_3_2 )\n",
            "You may use 'GSQL_CLIENT_VERSION=v? java ...' or \n",
            "    'java -DGSQL_CLIENT_VERSION=v? ...' to specify the version\n",
            "========================\n",
            "Trying version: v3_0_5\n",
            "Connecting to 49f1d3f648bd45b182194b99f3079057.i.tgcloud.io:14240\n",
            "If there is any relative path, it is relative to <System.AppRoot>/dev/gdk/gsql\n",
            "The job add_vertex_and_edges could not be found.\n",
            "\n"
          ],
          "name": "stdout"
        }
      ]
    },
    {
      "cell_type": "code",
      "metadata": {
        "id": "QK0JVohcSFyp"
      },
      "source": [
        ""
      ],
      "execution_count": null,
      "outputs": []
    }
  ]
}