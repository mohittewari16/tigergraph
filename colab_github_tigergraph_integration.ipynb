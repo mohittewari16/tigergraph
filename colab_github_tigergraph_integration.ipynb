{
  "nbformat": 4,
  "nbformat_minor": 0,
  "metadata": {
    "colab": {
      "name": "colab_github_tigergraph_integration.ipynb",
      "provenance": [],
      "authorship_tag": "ABX9TyOYjx4XtyfJR5jPo1ZTEq8E",
      "include_colab_link": true
    },
    "kernelspec": {
      "name": "python3",
      "display_name": "Python 3"
    }
  },
  "cells": [
    {
      "cell_type": "markdown",
      "metadata": {
        "id": "view-in-github",
        "colab_type": "text"
      },
      "source": [
        "<a href=\"https://colab.research.google.com/github/mohittewari16/tigergraph/blob/main/colab_github_tigergraph_integration.ipynb\" target=\"_parent\"><img src=\"https://colab.research.google.com/assets/colab-badge.svg\" alt=\"Open In Colab\"/></a>"
      ]
    },
    {
      "cell_type": "code",
      "metadata": {
        "colab": {
          "base_uri": "https://localhost:8080/"
        },
        "id": "p8XQo2Xav10a",
        "outputId": "136c8427-fe0b-49ce-ab1a-97d7d8790269"
      },
      "source": [
        "!pip install pyTigerGraph"
      ],
      "execution_count": 1,
      "outputs": [
        {
          "output_type": "stream",
          "text": [
            "Collecting pyTigerGraph\n",
            "  Downloading https://files.pythonhosted.org/packages/3c/78/72459e1cdc5ee88f7ffc0dbba38bbabffbf4b678454f8a93e879075f04c7/pyTigerGraph-0.0.9.6.3-py3-none-any.whl\n",
            "Requirement already satisfied: pandas in /usr/local/lib/python3.7/dist-packages (from pyTigerGraph) (1.1.5)\n",
            "Requirement already satisfied: requests in /usr/local/lib/python3.7/dist-packages (from pyTigerGraph) (2.23.0)\n",
            "Collecting validators\n",
            "  Downloading https://files.pythonhosted.org/packages/db/2f/7fed3ee94ad665ad2c1de87f858f10a7785251ff75b4fd47987888d07ef1/validators-0.18.2-py3-none-any.whl\n",
            "Requirement already satisfied: python-dateutil>=2.7.3 in /usr/local/lib/python3.7/dist-packages (from pandas->pyTigerGraph) (2.8.1)\n",
            "Requirement already satisfied: pytz>=2017.2 in /usr/local/lib/python3.7/dist-packages (from pandas->pyTigerGraph) (2018.9)\n",
            "Requirement already satisfied: numpy>=1.15.4 in /usr/local/lib/python3.7/dist-packages (from pandas->pyTigerGraph) (1.19.5)\n",
            "Requirement already satisfied: idna<3,>=2.5 in /usr/local/lib/python3.7/dist-packages (from requests->pyTigerGraph) (2.10)\n",
            "Requirement already satisfied: urllib3!=1.25.0,!=1.25.1,<1.26,>=1.21.1 in /usr/local/lib/python3.7/dist-packages (from requests->pyTigerGraph) (1.24.3)\n",
            "Requirement already satisfied: certifi>=2017.4.17 in /usr/local/lib/python3.7/dist-packages (from requests->pyTigerGraph) (2020.12.5)\n",
            "Requirement already satisfied: chardet<4,>=3.0.2 in /usr/local/lib/python3.7/dist-packages (from requests->pyTigerGraph) (3.0.4)\n",
            "Requirement already satisfied: six>=1.4.0 in /usr/local/lib/python3.7/dist-packages (from validators->pyTigerGraph) (1.15.0)\n",
            "Requirement already satisfied: decorator>=3.4.0 in /usr/local/lib/python3.7/dist-packages (from validators->pyTigerGraph) (4.4.2)\n",
            "Installing collected packages: validators, pyTigerGraph\n",
            "Successfully installed pyTigerGraph-0.0.9.6.3 validators-0.18.2\n"
          ],
          "name": "stdout"
        }
      ]
    },
    {
      "cell_type": "code",
      "metadata": {
        "id": "8KDc_65fv5dZ"
      },
      "source": [
        "import pyTigerGraph as tg\r\n",
        "import pandas as pd"
      ],
      "execution_count": 2,
      "outputs": []
    },
    {
      "cell_type": "code",
      "metadata": {
        "id": "FdMd-1--v7hY"
      },
      "source": [
        "TOKEN = \"2g0qqbjm66khdkno520c67071qc76956\""
      ],
      "execution_count": 3,
      "outputs": []
    },
    {
      "cell_type": "code",
      "metadata": {
        "id": "Vk1S1fBQ1CBW"
      },
      "source": [
        "conn = tg.TigerGraphConnection(host='https://49f1d3f648bd45b182194b99f3079057.i.tgcloud.io', graphname=\"custexp02\",\r\n",
        "                               username='tigergraph', password='password', apiToken=TOKEN, gsqlVersion='3.1.0',\r\n",
        "                               useCert = True\r\n",
        "                              )"
      ],
      "execution_count": 4,
      "outputs": []
    },
    {
      "cell_type": "code",
      "metadata": {
        "id": "fNzpilaS1fx5"
      },
      "source": [
        "#print(conn.gsql('ls'))"
      ],
      "execution_count": 5,
      "outputs": []
    },
    {
      "cell_type": "code",
      "metadata": {
        "colab": {
          "base_uri": "https://localhost:8080/"
        },
        "id": "6pS6th5j1ilN",
        "outputId": "d4d10b9a-4465-4b82-ee27-b2bc0c0f3eab"
      },
      "source": [
        "# print(conn.gsql('''\r\n",
        "#                 create vertex USER(PRIMARY_ID user_id int, address string, age int)\r\n",
        "\r\n",
        "#                 create vertex BOOK(PRIMARY_ID book_id int, book-title string, book-author string, year-of-publishing string, publisher string)\r\n",
        "\r\n",
        "#                 create undirected edge user_book_rating( from USER, TO BOOK, rating int)\r\n",
        "\r\n",
        "#                 '''))\r\n",
        "\r\n",
        "print(conn.gsql('''\r\n",
        "                create graph user_book_rating()\r\n",
        "                '''\r\n",
        "                ))"
      ],
      "execution_count": 6,
      "outputs": [
        {
          "output_type": "stream",
          "text": [
            "========================\n",
            "Trying version: v3_1_0\n",
            "Adding gsql-server host 49f1d3f648bd45b182194b99f3079057.i.tgcloud.io:14240\n",
            "WARNING: sun.reflect.Reflection.getCallerClass is not supported. This will impact performance.\n",
            "It's most likely your TigerGraph server has been upgraded.\n",
            "Please follow this document to obtain the corresponding GSQL client to the server:\n",
            "https://docs.tigergraph.com/dev/using-a-remote-gsql-client\n",
            "Supported Versions ( v3_1_0 v3_0_5 v3_0_0 v2_6_2 v2_6_0 v2_5_2 v2_5_0 v2_4_1 v2_4_0 v2_3_2 )\n",
            "You may use 'GSQL_CLIENT_VERSION=v? java ...' or \n",
            "    'java -DGSQL_CLIENT_VERSION=v? ...' to specify the version\n",
            "========================\n",
            "Trying version: v3_0_5\n",
            "Connecting to 49f1d3f648bd45b182194b99f3079057.i.tgcloud.io:14240\n",
            "If there is any relative path, it is relative to <System.AppRoot>/dev/gdk/gsql\n",
            "Semantic Check Fails: The graph name conflicts with another type or existing graph names! Please use a different name.\n",
            "The graph user_book_rating could not be created!\n",
            "\n"
          ],
          "name": "stdout"
        }
      ]
    },
    {
      "cell_type": "code",
      "metadata": {
        "colab": {
          "base_uri": "https://localhost:8080/"
        },
        "id": "NYjNnuMjMJDp",
        "outputId": "662a9724-44ab-4843-94ae-b029914f676d"
      },
      "source": [
        "print(conn.gsql('''\r\n",
        "                use graph user_book_rating\r\n",
        "                create schema_change job add_vertex_and_edges for graph user_book_rating{\r\n",
        "                  add vertex USER(PRIMARY_ID user_id int, address string, age int);\r\n",
        "                  add vertex BOOK(PRIMARY_ID book_id int, book_title string, book_author string, year_of_publishing int, publisher string);\r\n",
        "                  add undirected edge user_rates_book( from USER, TO BOOK, rating int);\r\n",
        "                }\r\n",
        "                run schema_change job add_vertex_and_edges\r\n",
        "'''    \r\n",
        "))"
      ],
      "execution_count": 75,
      "outputs": [
        {
          "output_type": "stream",
          "text": [
            "========================\n",
            "Trying version: v3_1_0\n",
            "Adding gsql-server host 49f1d3f648bd45b182194b99f3079057.i.tgcloud.io:14240\n",
            "WARNING: sun.reflect.Reflection.getCallerClass is not supported. This will impact performance.\n",
            "It's most likely your TigerGraph server has been upgraded.\n",
            "Please follow this document to obtain the corresponding GSQL client to the server:\n",
            "https://docs.tigergraph.com/dev/using-a-remote-gsql-client\n",
            "Supported Versions ( v3_1_0 v3_0_5 v3_0_0 v2_6_2 v2_6_0 v2_5_2 v2_5_0 v2_4_1 v2_4_0 v2_3_2 )\n",
            "You may use 'GSQL_CLIENT_VERSION=v? java ...' or \n",
            "    'java -DGSQL_CLIENT_VERSION=v? ...' to specify the version\n",
            "========================\n",
            "Trying version: v3_0_5\n",
            "Connecting to 49f1d3f648bd45b182194b99f3079057.i.tgcloud.io:14240\n",
            "If there is any relative path, it is relative to <System.AppRoot>/dev/gdk/gsql\n",
            "Using graph 'user_book_rating'\n",
            "Semantic Check Fails: The vertex name BOOK is used by another object! Please use a different name.\n",
            "The job add_vertex_and_edges could not be created!\n",
            "\n"
          ],
          "name": "stdout"
        }
      ]
    },
    {
      "cell_type": "code",
      "metadata": {
        "colab": {
          "base_uri": "https://localhost:8080/"
        },
        "id": "dRS2rfvdPdfS",
        "outputId": "3c1faed5-7877-4d83-e0d6-0131cf42bae8"
      },
      "source": [
        "print(conn.gsql('drop job add_vertex_and_edges'))"
      ],
      "execution_count": null,
      "outputs": [
        {
          "output_type": "stream",
          "text": [
            "========================\n",
            "Trying version: v3_1_0\n",
            "Adding gsql-server host 49f1d3f648bd45b182194b99f3079057.i.tgcloud.io:14240\n",
            "WARNING: sun.reflect.Reflection.getCallerClass is not supported. This will impact performance.\n",
            "It's most likely your TigerGraph server has been upgraded.\n",
            "Please follow this document to obtain the corresponding GSQL client to the server:\n",
            "https://docs.tigergraph.com/dev/using-a-remote-gsql-client\n",
            "Supported Versions ( v3_1_0 v3_0_5 v3_0_0 v2_6_2 v2_6_0 v2_5_2 v2_5_0 v2_4_1 v2_4_0 v2_3_2 )\n",
            "You may use 'GSQL_CLIENT_VERSION=v? java ...' or \n",
            "    'java -DGSQL_CLIENT_VERSION=v? ...' to specify the version\n",
            "========================\n",
            "Trying version: v3_0_5\n",
            "Connecting to 49f1d3f648bd45b182194b99f3079057.i.tgcloud.io:14240\n",
            "If there is any relative path, it is relative to <System.AppRoot>/dev/gdk/gsql\n",
            "The job add_vertex_and_edges could not be found.\n",
            "\n"
          ],
          "name": "stdout"
        }
      ]
    },
    {
      "cell_type": "code",
      "metadata": {
        "id": "QK0JVohcSFyp",
        "outputId": "478678ef-ba9d-4fdb-f07f-88d24f219105",
        "colab": {
          "base_uri": "https://localhost:8080/",
          "height": 131
        }
      },
      "source": [
        "print(conn.gsql('''\r\n",
        "                create loading job add_user_data FOR graph user_book_rating{\r\n",
        "                  define filename userfile= \".\\user_small_file.csv\";\r\n",
        "                  load userfile to vertex user values($0, $1, $2);\r\n",
        "                }\r\n",
        "                run loading job add_user_data using userfile=\".\\user_small_file.csv\" '''\r\n",
        "\r\n",
        "))"
      ],
      "execution_count": 21,
      "outputs": [
        {
          "output_type": "error",
          "ename": "SyntaxError",
          "evalue": "ignored",
          "traceback": [
            "\u001b[0;36m  File \u001b[0;32m\"<ipython-input-21-e216015f6f12>\"\u001b[0;36m, line \u001b[0;32m6\u001b[0m\n\u001b[0;31m    run loading job add_user_data using userfile=\".\\user_small_file.csv\" '''\u001b[0m\n\u001b[0m                                                                           ^\u001b[0m\n\u001b[0;31mSyntaxError\u001b[0m\u001b[0;31m:\u001b[0m (unicode error) 'unicodeescape' codec can't decode bytes in position 124-125: truncated \\uXXXX escape\n"
          ]
        }
      ]
    },
    {
      "cell_type": "code",
      "metadata": {
        "id": "HTtSgB0rdeon",
        "outputId": "9971a89e-d32e-4c04-a04e-0c1eaf7577d2",
        "colab": {
          "base_uri": "https://localhost:8080/"
        }
      },
      "source": [
        "print(conn.gsql('''\r\n",
        "                use graph user_book_rating\r\n",
        "                create loading job add_book_data FOR graph user_book_rating{\r\n",
        "                  define filename bookfile;\r\n",
        "                  load bookfile to vertex BOOK values($0, $1, $2,$3,$4);\r\n",
        "                }\r\n",
        "                '''\r\n",
        "))"
      ],
      "execution_count": 45,
      "outputs": [
        {
          "output_type": "stream",
          "text": [
            "========================\n",
            "Trying version: v3_1_0\n",
            "Adding gsql-server host 49f1d3f648bd45b182194b99f3079057.i.tgcloud.io:14240\n",
            "WARNING: sun.reflect.Reflection.getCallerClass is not supported. This will impact performance.\n",
            "It's most likely your TigerGraph server has been upgraded.\n",
            "Please follow this document to obtain the corresponding GSQL client to the server:\n",
            "https://docs.tigergraph.com/dev/using-a-remote-gsql-client\n",
            "Supported Versions ( v3_1_0 v3_0_5 v3_0_0 v2_6_2 v2_6_0 v2_5_2 v2_5_0 v2_4_1 v2_4_0 v2_3_2 )\n",
            "You may use 'GSQL_CLIENT_VERSION=v? java ...' or \n",
            "    'java -DGSQL_CLIENT_VERSION=v? ...' to specify the version\n",
            "========================\n",
            "Trying version: v3_0_5\n",
            "Connecting to 49f1d3f648bd45b182194b99f3079057.i.tgcloud.io:14240\n",
            "If there is any relative path, it is relative to <System.AppRoot>/dev/gdk/gsql\n",
            "Using graph 'user_book_rating'\n",
            "The job add_book_data is created.\n",
            "\n"
          ],
          "name": "stdout"
        }
      ]
    },
    {
      "cell_type": "code",
      "metadata": {
        "id": "GxIXJrALkByJ"
      },
      "source": [
        "import pandas as pd"
      ],
      "execution_count": 39,
      "outputs": []
    },
    {
      "cell_type": "code",
      "metadata": {
        "id": "38ozrBJOnw_Z"
      },
      "source": [
        "df = pd.read_csv('https://raw.githubusercontent.com/mohittewari16/tigergraph/main/books_small_file.csv')"
      ],
      "execution_count": 47,
      "outputs": []
    },
    {
      "cell_type": "code",
      "metadata": {
        "id": "zbGrgwPfn3TG",
        "outputId": "c5ec0c27-1ff0-416c-852d-8b80998ce421",
        "colab": {
          "base_uri": "https://localhost:8080/",
          "height": 430
        }
      },
      "source": [
        "df.head()"
      ],
      "execution_count": 43,
      "outputs": [
        {
          "output_type": "execute_result",
          "data": {
            "text/html": [
              "<div>\n",
              "<style scoped>\n",
              "    .dataframe tbody tr th:only-of-type {\n",
              "        vertical-align: middle;\n",
              "    }\n",
              "\n",
              "    .dataframe tbody tr th {\n",
              "        vertical-align: top;\n",
              "    }\n",
              "\n",
              "    .dataframe thead th {\n",
              "        text-align: right;\n",
              "    }\n",
              "</style>\n",
              "<table border=\"1\" class=\"dataframe\">\n",
              "  <thead>\n",
              "    <tr style=\"text-align: right;\">\n",
              "      <th></th>\n",
              "      <th>ISBN</th>\n",
              "      <th>Book-Title</th>\n",
              "      <th>Book-Author</th>\n",
              "      <th>Year-Of-Publication</th>\n",
              "      <th>Publisher</th>\n",
              "      <th>Image-URL-S</th>\n",
              "      <th>Image-URL-M</th>\n",
              "      <th>Image-URL-L</th>\n",
              "    </tr>\n",
              "  </thead>\n",
              "  <tbody>\n",
              "    <tr>\n",
              "      <th>0</th>\n",
              "      <td>195153448</td>\n",
              "      <td>Classical Mythology</td>\n",
              "      <td>Mark P. O. Morford</td>\n",
              "      <td>2002</td>\n",
              "      <td>Oxford University Press</td>\n",
              "      <td>http://images.amazon.com/images/P/0195153448.0...</td>\n",
              "      <td>http://images.amazon.com/images/P/0195153448.0...</td>\n",
              "      <td>http://images.amazon.com/images/P/0195153448.0...</td>\n",
              "    </tr>\n",
              "    <tr>\n",
              "      <th>1</th>\n",
              "      <td>2005018</td>\n",
              "      <td>Clara Callan</td>\n",
              "      <td>Richard Bruce Wright</td>\n",
              "      <td>2001</td>\n",
              "      <td>HarperFlamingo Canada</td>\n",
              "      <td>http://images.amazon.com/images/P/0002005018.0...</td>\n",
              "      <td>http://images.amazon.com/images/P/0002005018.0...</td>\n",
              "      <td>http://images.amazon.com/images/P/0002005018.0...</td>\n",
              "    </tr>\n",
              "    <tr>\n",
              "      <th>2</th>\n",
              "      <td>60973129</td>\n",
              "      <td>Decision in Normandy</td>\n",
              "      <td>Carlo D'Este</td>\n",
              "      <td>1991</td>\n",
              "      <td>HarperPerennial</td>\n",
              "      <td>http://images.amazon.com/images/P/0060973129.0...</td>\n",
              "      <td>http://images.amazon.com/images/P/0060973129.0...</td>\n",
              "      <td>http://images.amazon.com/images/P/0060973129.0...</td>\n",
              "    </tr>\n",
              "    <tr>\n",
              "      <th>3</th>\n",
              "      <td>374157065</td>\n",
              "      <td>Flu: The Story of the Great Influenza Pandemic...</td>\n",
              "      <td>Gina Bari Kolata</td>\n",
              "      <td>1999</td>\n",
              "      <td>Farrar Straus Giroux</td>\n",
              "      <td>http://images.amazon.com/images/P/0374157065.0...</td>\n",
              "      <td>http://images.amazon.com/images/P/0374157065.0...</td>\n",
              "      <td>http://images.amazon.com/images/P/0374157065.0...</td>\n",
              "    </tr>\n",
              "    <tr>\n",
              "      <th>4</th>\n",
              "      <td>393045218</td>\n",
              "      <td>The Mummies of Urumchi</td>\n",
              "      <td>E. J. W. Barber</td>\n",
              "      <td>1999</td>\n",
              "      <td>W. W. Norton &amp;amp; Company</td>\n",
              "      <td>http://images.amazon.com/images/P/0393045218.0...</td>\n",
              "      <td>http://images.amazon.com/images/P/0393045218.0...</td>\n",
              "      <td>http://images.amazon.com/images/P/0393045218.0...</td>\n",
              "    </tr>\n",
              "  </tbody>\n",
              "</table>\n",
              "</div>"
            ],
            "text/plain": [
              "        ISBN  ...                                        Image-URL-L\n",
              "0  195153448  ...  http://images.amazon.com/images/P/0195153448.0...\n",
              "1    2005018  ...  http://images.amazon.com/images/P/0002005018.0...\n",
              "2   60973129  ...  http://images.amazon.com/images/P/0060973129.0...\n",
              "3  374157065  ...  http://images.amazon.com/images/P/0374157065.0...\n",
              "4  393045218  ...  http://images.amazon.com/images/P/0393045218.0...\n",
              "\n",
              "[5 rows x 8 columns]"
            ]
          },
          "metadata": {
            "tags": []
          },
          "execution_count": 43
        }
      ]
    },
    {
      "cell_type": "code",
      "metadata": {
        "id": "7HeZH_fPi1s7",
        "outputId": "489fe387-59ea-45b3-ed0c-a4da8344a372",
        "colab": {
          "base_uri": "https://localhost:8080/"
        }
      },
      "source": [
        "print(conn.gsql('show secret'))"
      ],
      "execution_count": 70,
      "outputs": [
        {
          "output_type": "stream",
          "text": [
            "========================\n",
            "Trying version: v3_1_0\n",
            "Adding gsql-server host 49f1d3f648bd45b182194b99f3079057.i.tgcloud.io:14240\n",
            "WARNING: sun.reflect.Reflection.getCallerClass is not supported. This will impact performance.\n",
            "It's most likely your TigerGraph server has been upgraded.\n",
            "Please follow this document to obtain the corresponding GSQL client to the server:\n",
            "https://docs.tigergraph.com/dev/using-a-remote-gsql-client\n",
            "Supported Versions ( v3_1_0 v3_0_5 v3_0_0 v2_6_2 v2_6_0 v2_5_2 v2_5_0 v2_4_1 v2_4_0 v2_3_2 )\n",
            "You may use 'GSQL_CLIENT_VERSION=v? java ...' or \n",
            "    'java -DGSQL_CLIENT_VERSION=v? ...' to specify the version\n",
            "========================\n",
            "Trying version: v3_0_5\n",
            "Connecting to 49f1d3f648bd45b182194b99f3079057.i.tgcloud.io:14240\n",
            "If there is any relative path, it is relative to <System.AppRoot>/dev/gdk/gsql\n",
            "    - Secret: k06****ttd\n",
            "      - Token: 44g8trakatajvihp16ktahlqdqrtp4e5 expire at: 2021-03-26 07:38:31\n",
            "      - GraphName: dummy1\n",
            "    - Secret: 52l****us9\n",
            "      - Token: 6omm2aib7aqaqp1o4m3c7qpro8h762s4 expire at: 2021-03-26 07:36:19\n",
            "      - GraphName: CustExp\n",
            "    - Secret: 55e****3gk\n",
            "      - Token: gag6jetj1rj88pjm09f679cdf6fsfib1 expire at: 2021-03-26 07:37:28\n",
            "      - GraphName: custexp02\n",
            "    - Secret: jvo****ag4\n",
            "      - Token: 2g0qqbjm66khdkno520c67071qc76956 expire at: 2021-03-27 20:44:26\n",
            "      - Alias: test\n",
            "      - GraphName: custexp02\n",
            "    - Secret: ktc****no2\n",
            "      - Token: op69985k3ddpp3fj6tq7abtpiqt17k2l expire at: 2021-04-15 09:00:00\n",
            "      - GraphName: user_book_rating\n",
            "\n",
            "\n"
          ],
          "name": "stdout"
        }
      ]
    },
    {
      "cell_type": "code",
      "metadata": {
        "id": "V-R1i45hjWbv"
      },
      "source": [
        "conn = tg.TigerGraphConnection(host='https://49f1d3f648bd45b182194b99f3079057.i.tgcloud.io', graphname=\"user_book_rating\",\r\n",
        "                               username='tigergraph', password='password', apiToken='op69985k3ddpp3fj6tq7abtpiqt17k2l', gsqlVersion='3.1.0',\r\n",
        "                               useCert = True\r\n",
        "                              )"
      ],
      "execution_count": 71,
      "outputs": []
    },
    {
      "cell_type": "code",
      "metadata": {
        "id": "_nPy3GIXm2WO",
        "outputId": "e9be3882-f2d0-4083-84ef-49d8dd86fde2",
        "colab": {
          "base_uri": "https://localhost:8080/"
        }
      },
      "source": [
        "print(conn.gsql('''\r\n",
        "                CREATE SCHEMA_CHANGE JOB alter_book_attribute{\r\n",
        "                  ALTER VERTEX BOOK DROP ATTRIBUTE(year_of_publishing);\r\n",
        "                  ALTER VERTEX BOOK ADD ATTRIBUTE(year_of_publication int);\r\n",
        "                }\r\n",
        "\r\n",
        "                run SCHEMA_CHANGE JOB alter_book_attribute\r\n",
        "'''))"
      ],
      "execution_count": 79,
      "outputs": [
        {
          "output_type": "stream",
          "text": [
            "========================\n",
            "Trying version: v3_1_0\n",
            "Adding gsql-server host 49f1d3f648bd45b182194b99f3079057.i.tgcloud.io:14240\n",
            "WARNING: sun.reflect.Reflection.getCallerClass is not supported. This will impact performance.\n",
            "It's most likely your TigerGraph server has been upgraded.\n",
            "Please follow this document to obtain the corresponding GSQL client to the server:\n",
            "https://docs.tigergraph.com/dev/using-a-remote-gsql-client\n",
            "Supported Versions ( v3_1_0 v3_0_5 v3_0_0 v2_6_2 v2_6_0 v2_5_2 v2_5_0 v2_4_1 v2_4_0 v2_3_2 )\n",
            "You may use 'GSQL_CLIENT_VERSION=v? java ...' or \n",
            "    'java -DGSQL_CLIENT_VERSION=v? ...' to specify the version\n",
            "========================\n",
            "Trying version: v3_0_5\n",
            "Connecting to 49f1d3f648bd45b182194b99f3079057.i.tgcloud.io:14240\n",
            "If there is any relative path, it is relative to <System.AppRoot>/dev/gdk/gsql\n",
            "The job alter_book_attribute is created.\n",
            "\n",
            "Current graph version 1\n",
            "Trying to drop attribute year_of_publishing.\n",
            "Trying to add attribute year_of_publication.\n",
            "Load job add_book_data will be deleted after schema change.\n",
            "Kick off job alter_book_attribute\n",
            "\n",
            "Graph user_book_rating update to new version 2\n",
            "The job alter_book_attribute completes in 13.016 seconds!\n",
            "\n"
          ],
          "name": "stdout"
        }
      ]
    },
    {
      "cell_type": "code",
      "metadata": {
        "id": "l-TTWsgPn_gJ"
      },
      "source": [
        "df.drop(columns=df.columns[-3:], axis=1, inplace=True)"
      ],
      "execution_count": 55,
      "outputs": []
    },
    {
      "cell_type": "code",
      "metadata": {
        "id": "0n_lQjmTYD-e",
        "outputId": "943df7f2-3d3d-4904-89ec-152d105c258f",
        "colab": {
          "base_uri": "https://localhost:8080/"
        }
      },
      "source": [
        "print(conn.upsertVertexDataFrame(df,'BOOK',v_id='ISBN',attributes={'book_title':'Book-Title','book_author':'Book-Author',\r\n",
        "                                                                   'year_of_publication':'Year-Of-Publication','publisher':'Publisher'}))"
      ],
      "execution_count": 80,
      "outputs": [
        {
          "output_type": "stream",
          "text": [
            "29\n"
          ],
          "name": "stdout"
        }
      ]
    },
    {
      "cell_type": "code",
      "metadata": {
        "id": "dwIgAdzBZ8Vj",
        "outputId": "645f059f-62e1-4456-ddab-39bccbe74391",
        "colab": {
          "base_uri": "https://localhost:8080/",
          "height": 202
        }
      },
      "source": [
        "df = pd.read_csv('https://raw.githubusercontent.com/mohittewari16/tigergraph/main/users_small_file.csv')\r\n",
        "df.head()"
      ],
      "execution_count": 82,
      "outputs": [
        {
          "output_type": "execute_result",
          "data": {
            "text/html": [
              "<div>\n",
              "<style scoped>\n",
              "    .dataframe tbody tr th:only-of-type {\n",
              "        vertical-align: middle;\n",
              "    }\n",
              "\n",
              "    .dataframe tbody tr th {\n",
              "        vertical-align: top;\n",
              "    }\n",
              "\n",
              "    .dataframe thead th {\n",
              "        text-align: right;\n",
              "    }\n",
              "</style>\n",
              "<table border=\"1\" class=\"dataframe\">\n",
              "  <thead>\n",
              "    <tr style=\"text-align: right;\">\n",
              "      <th></th>\n",
              "      <th>User-ID</th>\n",
              "      <th>Location</th>\n",
              "      <th>Age</th>\n",
              "    </tr>\n",
              "  </thead>\n",
              "  <tbody>\n",
              "    <tr>\n",
              "      <th>0</th>\n",
              "      <td>1</td>\n",
              "      <td>nyc - new york - usa</td>\n",
              "      <td>NaN</td>\n",
              "    </tr>\n",
              "    <tr>\n",
              "      <th>1</th>\n",
              "      <td>2</td>\n",
              "      <td>stockton - california - usa</td>\n",
              "      <td>18.0</td>\n",
              "    </tr>\n",
              "    <tr>\n",
              "      <th>2</th>\n",
              "      <td>3</td>\n",
              "      <td>moscow - yukon territory - russia</td>\n",
              "      <td>NaN</td>\n",
              "    </tr>\n",
              "    <tr>\n",
              "      <th>3</th>\n",
              "      <td>4</td>\n",
              "      <td>porto - v.n.gaia - portugal</td>\n",
              "      <td>17.0</td>\n",
              "    </tr>\n",
              "    <tr>\n",
              "      <th>4</th>\n",
              "      <td>5</td>\n",
              "      <td>farnborough - hants - united kingdom</td>\n",
              "      <td>NaN</td>\n",
              "    </tr>\n",
              "  </tbody>\n",
              "</table>\n",
              "</div>"
            ],
            "text/plain": [
              "   User-ID                              Location   Age\n",
              "0        1                  nyc - new york - usa   NaN\n",
              "1        2           stockton - california - usa  18.0\n",
              "2        3     moscow - yukon territory - russia   NaN\n",
              "3        4           porto - v.n.gaia - portugal  17.0\n",
              "4        5  farnborough - hants - united kingdom   NaN"
            ]
          },
          "metadata": {
            "tags": []
          },
          "execution_count": 82
        }
      ]
    },
    {
      "cell_type": "code",
      "metadata": {
        "id": "h-CwvbnBZ8X6",
        "outputId": "d30401dd-59fb-4227-bdc6-401fc07d831b",
        "colab": {
          "base_uri": "https://localhost:8080/",
          "height": 311
        }
      },
      "source": [
        "print(conn.upsertVertexDataFrame(df, 'USER', v_id='User-ID', attributes={'address':'Location', 'age':'Age'}))"
      ],
      "execution_count": 85,
      "outputs": [
        {
          "output_type": "error",
          "ename": "TigerGraphException",
          "evalue": "ignored",
          "traceback": [
            "\u001b[0;31m---------------------------------------------------------------------------\u001b[0m",
            "\u001b[0;31mTigerGraphException\u001b[0m                       Traceback (most recent call last)",
            "\u001b[0;32m<ipython-input-85-e97f1ea7622d>\u001b[0m in \u001b[0;36m<module>\u001b[0;34m()\u001b[0m\n\u001b[0;32m----> 1\u001b[0;31m \u001b[0mprint\u001b[0m\u001b[0;34m(\u001b[0m\u001b[0mconn\u001b[0m\u001b[0;34m.\u001b[0m\u001b[0mupsertVertexDataFrame\u001b[0m\u001b[0;34m(\u001b[0m\u001b[0mdf\u001b[0m\u001b[0;34m,\u001b[0m \u001b[0;34m'USER'\u001b[0m\u001b[0;34m,\u001b[0m \u001b[0mv_id\u001b[0m\u001b[0;34m=\u001b[0m\u001b[0;34m'User-ID'\u001b[0m\u001b[0;34m,\u001b[0m \u001b[0mattributes\u001b[0m\u001b[0;34m=\u001b[0m\u001b[0;34m{\u001b[0m\u001b[0;34m'address'\u001b[0m\u001b[0;34m:\u001b[0m\u001b[0;34m'Location'\u001b[0m\u001b[0;34m,\u001b[0m \u001b[0;34m'age'\u001b[0m\u001b[0;34m:\u001b[0m\u001b[0;34m'Age'\u001b[0m\u001b[0;34m}\u001b[0m\u001b[0;34m)\u001b[0m\u001b[0;34m)\u001b[0m\u001b[0;34m\u001b[0m\u001b[0;34m\u001b[0m\u001b[0m\n\u001b[0m",
            "\u001b[0;32m/usr/local/lib/python3.7/dist-packages/pyTigerGraph/pyTigerGraph.py\u001b[0m in \u001b[0;36mupsertVertexDataFrame\u001b[0;34m(self, df, vertexType, v_id, attributes)\u001b[0m\n\u001b[1;32m   1670\u001b[0m             )\n\u001b[1;32m   1671\u001b[0m \u001b[0;34m\u001b[0m\u001b[0m\n\u001b[0;32m-> 1672\u001b[0;31m         \u001b[0;32mreturn\u001b[0m \u001b[0mself\u001b[0m\u001b[0;34m.\u001b[0m\u001b[0mupsertVertices\u001b[0m\u001b[0;34m(\u001b[0m\u001b[0mvertexType\u001b[0m\u001b[0;34m=\u001b[0m\u001b[0mvertexType\u001b[0m\u001b[0;34m,\u001b[0m \u001b[0mvertices\u001b[0m\u001b[0;34m=\u001b[0m\u001b[0mjson_up\u001b[0m\u001b[0;34m)\u001b[0m\u001b[0;34m\u001b[0m\u001b[0;34m\u001b[0m\u001b[0m\n\u001b[0m\u001b[1;32m   1673\u001b[0m \u001b[0;34m\u001b[0m\u001b[0m\n\u001b[1;32m   1674\u001b[0m     \u001b[0;32mdef\u001b[0m \u001b[0mupsertEdgeDataFrame\u001b[0m\u001b[0;34m(\u001b[0m\u001b[0mself\u001b[0m\u001b[0;34m,\u001b[0m \u001b[0mdf\u001b[0m\u001b[0;34m,\u001b[0m \u001b[0msourceVertexType\u001b[0m\u001b[0;34m,\u001b[0m \u001b[0medgeType\u001b[0m\u001b[0;34m,\u001b[0m \u001b[0mtargetVertexType\u001b[0m\u001b[0;34m,\u001b[0m \u001b[0mfrom_id\u001b[0m\u001b[0;34m=\u001b[0m\u001b[0;32mNone\u001b[0m\u001b[0;34m,\u001b[0m \u001b[0mto_id\u001b[0m\u001b[0;34m=\u001b[0m\u001b[0;32mNone\u001b[0m\u001b[0;34m,\u001b[0m \u001b[0mattributes\u001b[0m\u001b[0;34m=\u001b[0m\u001b[0;32mNone\u001b[0m\u001b[0;34m)\u001b[0m\u001b[0;34m:\u001b[0m\u001b[0;34m\u001b[0m\u001b[0;34m\u001b[0m\u001b[0m\n",
            "\u001b[0;32m/usr/local/lib/python3.7/dist-packages/pyTigerGraph/pyTigerGraph.py\u001b[0m in \u001b[0;36mupsertVertices\u001b[0;34m(self, vertexType, vertices)\u001b[0m\n\u001b[1;32m    562\u001b[0m             \u001b[0mdata\u001b[0m\u001b[0;34m[\u001b[0m\u001b[0mv\u001b[0m\u001b[0;34m[\u001b[0m\u001b[0;36m0\u001b[0m\u001b[0;34m]\u001b[0m\u001b[0;34m]\u001b[0m \u001b[0;34m=\u001b[0m \u001b[0mvals\u001b[0m\u001b[0;34m\u001b[0m\u001b[0;34m\u001b[0m\u001b[0m\n\u001b[1;32m    563\u001b[0m         \u001b[0mdata\u001b[0m \u001b[0;34m=\u001b[0m \u001b[0mjson\u001b[0m\u001b[0;34m.\u001b[0m\u001b[0mdumps\u001b[0m\u001b[0;34m(\u001b[0m\u001b[0;34m{\u001b[0m\u001b[0;34m\"vertices\"\u001b[0m\u001b[0;34m:\u001b[0m \u001b[0;34m{\u001b[0m\u001b[0mvertexType\u001b[0m\u001b[0;34m:\u001b[0m \u001b[0mdata\u001b[0m\u001b[0;34m}\u001b[0m\u001b[0;34m}\u001b[0m\u001b[0;34m)\u001b[0m\u001b[0;34m\u001b[0m\u001b[0;34m\u001b[0m\u001b[0m\n\u001b[0;32m--> 564\u001b[0;31m         \u001b[0;32mreturn\u001b[0m \u001b[0mself\u001b[0m\u001b[0;34m.\u001b[0m\u001b[0m_post\u001b[0m\u001b[0;34m(\u001b[0m\u001b[0mself\u001b[0m\u001b[0;34m.\u001b[0m\u001b[0mrestppUrl\u001b[0m \u001b[0;34m+\u001b[0m \u001b[0;34m\"/graph/\"\u001b[0m \u001b[0;34m+\u001b[0m \u001b[0mself\u001b[0m\u001b[0;34m.\u001b[0m\u001b[0mgraphname\u001b[0m\u001b[0;34m,\u001b[0m \u001b[0mdata\u001b[0m\u001b[0;34m=\u001b[0m\u001b[0mdata\u001b[0m\u001b[0;34m)\u001b[0m\u001b[0;34m[\u001b[0m\u001b[0;36m0\u001b[0m\u001b[0;34m]\u001b[0m\u001b[0;34m[\u001b[0m\u001b[0;34m\"accepted_vertices\"\u001b[0m\u001b[0;34m]\u001b[0m\u001b[0;34m\u001b[0m\u001b[0;34m\u001b[0m\u001b[0m\n\u001b[0m\u001b[1;32m    565\u001b[0m \u001b[0;34m\u001b[0m\u001b[0m\n\u001b[1;32m    566\u001b[0m     \u001b[0;32mdef\u001b[0m \u001b[0mgetVertices\u001b[0m\u001b[0;34m(\u001b[0m\u001b[0mself\u001b[0m\u001b[0;34m,\u001b[0m \u001b[0mvertexType\u001b[0m\u001b[0;34m,\u001b[0m \u001b[0mselect\u001b[0m\u001b[0;34m=\u001b[0m\u001b[0;34m\"\"\u001b[0m\u001b[0;34m,\u001b[0m \u001b[0mwhere\u001b[0m\u001b[0;34m=\u001b[0m\u001b[0;34m\"\"\u001b[0m\u001b[0;34m,\u001b[0m \u001b[0mlimit\u001b[0m\u001b[0;34m=\u001b[0m\u001b[0;34m\"\"\u001b[0m\u001b[0;34m,\u001b[0m \u001b[0msort\u001b[0m\u001b[0;34m=\u001b[0m\u001b[0;34m\"\"\u001b[0m\u001b[0;34m,\u001b[0m \u001b[0mfmt\u001b[0m\u001b[0;34m=\u001b[0m\u001b[0;34m\"py\"\u001b[0m\u001b[0;34m,\u001b[0m \u001b[0mwithId\u001b[0m\u001b[0;34m=\u001b[0m\u001b[0;32mTrue\u001b[0m\u001b[0;34m,\u001b[0m \u001b[0mwithType\u001b[0m\u001b[0;34m=\u001b[0m\u001b[0;32mFalse\u001b[0m\u001b[0;34m,\u001b[0m \u001b[0mtimeout\u001b[0m\u001b[0;34m=\u001b[0m\u001b[0;36m0\u001b[0m\u001b[0;34m)\u001b[0m\u001b[0;34m:\u001b[0m\u001b[0;34m\u001b[0m\u001b[0;34m\u001b[0m\u001b[0m\n",
            "\u001b[0;32m/usr/local/lib/python3.7/dist-packages/pyTigerGraph/pyTigerGraph.py\u001b[0m in \u001b[0;36m_post\u001b[0;34m(self, url, authMode, headers, data, resKey, skipCheck, params)\u001b[0m\n\u001b[1;32m    154\u001b[0m         \u001b[0mFor\u001b[0m \u001b[0margument\u001b[0m \u001b[0mdetails\u001b[0m\u001b[0;34m,\u001b[0m \u001b[0msee\u001b[0m\u001b[0;31m \u001b[0m\u001b[0;31m`\u001b[0m\u001b[0m_req\u001b[0m\u001b[0;31m`\u001b[0m\u001b[0;34m.\u001b[0m\u001b[0;34m\u001b[0m\u001b[0;34m\u001b[0m\u001b[0m\n\u001b[1;32m    155\u001b[0m         \"\"\"\n\u001b[0;32m--> 156\u001b[0;31m         \u001b[0;32mreturn\u001b[0m \u001b[0mself\u001b[0m\u001b[0;34m.\u001b[0m\u001b[0m_req\u001b[0m\u001b[0;34m(\u001b[0m\u001b[0;34m\"POST\"\u001b[0m\u001b[0;34m,\u001b[0m \u001b[0murl\u001b[0m\u001b[0;34m,\u001b[0m \u001b[0mauthMode\u001b[0m\u001b[0;34m,\u001b[0m \u001b[0mheaders\u001b[0m\u001b[0;34m,\u001b[0m \u001b[0mdata\u001b[0m\u001b[0;34m,\u001b[0m \u001b[0mresKey\u001b[0m\u001b[0;34m,\u001b[0m \u001b[0mskipCheck\u001b[0m\u001b[0;34m,\u001b[0m \u001b[0mparams\u001b[0m\u001b[0;34m)\u001b[0m\u001b[0;34m\u001b[0m\u001b[0;34m\u001b[0m\u001b[0m\n\u001b[0m\u001b[1;32m    157\u001b[0m \u001b[0;34m\u001b[0m\u001b[0m\n\u001b[1;32m    158\u001b[0m     \u001b[0;32mdef\u001b[0m \u001b[0m_delete\u001b[0m\u001b[0;34m(\u001b[0m\u001b[0mself\u001b[0m\u001b[0;34m,\u001b[0m \u001b[0murl\u001b[0m\u001b[0;34m,\u001b[0m \u001b[0mauthMode\u001b[0m\u001b[0;34m=\u001b[0m\u001b[0;34m\"token\"\u001b[0m\u001b[0;34m)\u001b[0m\u001b[0;34m:\u001b[0m\u001b[0;34m\u001b[0m\u001b[0;34m\u001b[0m\u001b[0m\n",
            "\u001b[0;32m/usr/local/lib/python3.7/dist-packages/pyTigerGraph/pyTigerGraph.py\u001b[0m in \u001b[0;36m_req\u001b[0;34m(self, method, url, authMode, headers, data, resKey, skipCheck, params)\u001b[0m\n\u001b[1;32m    133\u001b[0m         \u001b[0mres\u001b[0m \u001b[0;34m=\u001b[0m \u001b[0mjson\u001b[0m\u001b[0;34m.\u001b[0m\u001b[0mloads\u001b[0m\u001b[0;34m(\u001b[0m\u001b[0mres\u001b[0m\u001b[0;34m.\u001b[0m\u001b[0mtext\u001b[0m\u001b[0;34m)\u001b[0m\u001b[0;34m\u001b[0m\u001b[0;34m\u001b[0m\u001b[0m\n\u001b[1;32m    134\u001b[0m         \u001b[0;32mif\u001b[0m \u001b[0;32mnot\u001b[0m \u001b[0mskipCheck\u001b[0m\u001b[0;34m:\u001b[0m\u001b[0;34m\u001b[0m\u001b[0;34m\u001b[0m\u001b[0m\n\u001b[0;32m--> 135\u001b[0;31m             \u001b[0mself\u001b[0m\u001b[0;34m.\u001b[0m\u001b[0m_errorCheck\u001b[0m\u001b[0;34m(\u001b[0m\u001b[0mres\u001b[0m\u001b[0;34m)\u001b[0m\u001b[0;34m\u001b[0m\u001b[0;34m\u001b[0m\u001b[0m\n\u001b[0m\u001b[1;32m    136\u001b[0m         \u001b[0;32mif\u001b[0m \u001b[0;32mnot\u001b[0m \u001b[0mresKey\u001b[0m\u001b[0;34m:\u001b[0m\u001b[0;34m\u001b[0m\u001b[0;34m\u001b[0m\u001b[0m\n\u001b[1;32m    137\u001b[0m             \u001b[0;32mif\u001b[0m \u001b[0mself\u001b[0m\u001b[0;34m.\u001b[0m\u001b[0mdebug\u001b[0m\u001b[0;34m:\u001b[0m\u001b[0;34m\u001b[0m\u001b[0;34m\u001b[0m\u001b[0m\n",
            "\u001b[0;32m/usr/local/lib/python3.7/dist-packages/pyTigerGraph/pyTigerGraph.py\u001b[0m in \u001b[0;36m_errorCheck\u001b[0;34m(self, res)\u001b[0m\n\u001b[1;32m     90\u001b[0m         \"\"\"\n\u001b[1;32m     91\u001b[0m         \u001b[0;32mif\u001b[0m \u001b[0;34m\"error\"\u001b[0m \u001b[0;32min\u001b[0m \u001b[0mres\u001b[0m \u001b[0;32mand\u001b[0m \u001b[0mres\u001b[0m\u001b[0;34m[\u001b[0m\u001b[0;34m\"error\"\u001b[0m\u001b[0;34m]\u001b[0m \u001b[0;32mand\u001b[0m \u001b[0mres\u001b[0m\u001b[0;34m[\u001b[0m\u001b[0;34m\"error\"\u001b[0m\u001b[0;34m]\u001b[0m \u001b[0;34m!=\u001b[0m \u001b[0;34m\"false\"\u001b[0m\u001b[0;34m:\u001b[0m  \u001b[0;31m# Endpoint might return string \"false\" rather than Boolean false\u001b[0m\u001b[0;34m\u001b[0m\u001b[0;34m\u001b[0m\u001b[0m\n\u001b[0;32m---> 92\u001b[0;31m             \u001b[0;32mraise\u001b[0m \u001b[0mTigerGraphException\u001b[0m\u001b[0;34m(\u001b[0m\u001b[0mres\u001b[0m\u001b[0;34m[\u001b[0m\u001b[0;34m\"message\"\u001b[0m\u001b[0;34m]\u001b[0m\u001b[0;34m,\u001b[0m \u001b[0;34m(\u001b[0m\u001b[0mres\u001b[0m\u001b[0;34m[\u001b[0m\u001b[0;34m\"code\"\u001b[0m\u001b[0;34m]\u001b[0m \u001b[0;32mif\u001b[0m \u001b[0;34m\"code\"\u001b[0m \u001b[0;32min\u001b[0m \u001b[0mres\u001b[0m \u001b[0;32melse\u001b[0m \u001b[0;32mNone\u001b[0m\u001b[0;34m)\u001b[0m\u001b[0;34m)\u001b[0m\u001b[0;34m\u001b[0m\u001b[0;34m\u001b[0m\u001b[0m\n\u001b[0m\u001b[1;32m     93\u001b[0m \u001b[0;34m\u001b[0m\u001b[0m\n\u001b[1;32m     94\u001b[0m     \u001b[0;32mdef\u001b[0m \u001b[0m_req\u001b[0m\u001b[0;34m(\u001b[0m\u001b[0mself\u001b[0m\u001b[0;34m,\u001b[0m \u001b[0mmethod\u001b[0m\u001b[0;34m,\u001b[0m \u001b[0murl\u001b[0m\u001b[0;34m,\u001b[0m \u001b[0mauthMode\u001b[0m\u001b[0;34m=\u001b[0m\u001b[0;34m\"token\"\u001b[0m\u001b[0;34m,\u001b[0m \u001b[0mheaders\u001b[0m\u001b[0;34m=\u001b[0m\u001b[0;32mNone\u001b[0m\u001b[0;34m,\u001b[0m \u001b[0mdata\u001b[0m\u001b[0;34m=\u001b[0m\u001b[0;32mNone\u001b[0m\u001b[0;34m,\u001b[0m \u001b[0mresKey\u001b[0m\u001b[0;34m=\u001b[0m\u001b[0;34m\"results\"\u001b[0m\u001b[0;34m,\u001b[0m \u001b[0mskipCheck\u001b[0m\u001b[0;34m=\u001b[0m\u001b[0;32mFalse\u001b[0m\u001b[0;34m,\u001b[0m \u001b[0mparams\u001b[0m\u001b[0;34m=\u001b[0m\u001b[0;32mNone\u001b[0m\u001b[0;34m)\u001b[0m\u001b[0;34m:\u001b[0m\u001b[0;34m\u001b[0m\u001b[0;34m\u001b[0m\u001b[0m\n",
            "\u001b[0;31mTigerGraphException\u001b[0m: ('Null JSON value is not supported.', 'REST-30200')"
          ]
        }
      ]
    },
    {
      "cell_type": "code",
      "metadata": {
        "id": "SxbjTXujZ8au"
      },
      "source": [
        ""
      ],
      "execution_count": null,
      "outputs": []
    },
    {
      "cell_type": "code",
      "metadata": {
        "id": "HTbnoDn5Z8dJ"
      },
      "source": [
        ""
      ],
      "execution_count": null,
      "outputs": []
    },
    {
      "cell_type": "code",
      "metadata": {
        "id": "D9NZbT91Z8fa"
      },
      "source": [
        ""
      ],
      "execution_count": null,
      "outputs": []
    },
    {
      "cell_type": "code",
      "metadata": {
        "id": "UxVALcBsZ8hp"
      },
      "source": [
        ""
      ],
      "execution_count": null,
      "outputs": []
    },
    {
      "cell_type": "code",
      "metadata": {
        "id": "M_Xw9goxZ8j1"
      },
      "source": [
        ""
      ],
      "execution_count": null,
      "outputs": []
    },
    {
      "cell_type": "code",
      "metadata": {
        "id": "VvIaiGrzZ8my"
      },
      "source": [
        ""
      ],
      "execution_count": null,
      "outputs": []
    },
    {
      "cell_type": "code",
      "metadata": {
        "id": "RjWRZDElZ8ot"
      },
      "source": [
        ""
      ],
      "execution_count": null,
      "outputs": []
    },
    {
      "cell_type": "code",
      "metadata": {
        "id": "1Q66F73TZ8sI"
      },
      "source": [
        ""
      ],
      "execution_count": null,
      "outputs": []
    },
    {
      "cell_type": "code",
      "metadata": {
        "id": "ncmJnDghY9Ic"
      },
      "source": [
        ""
      ],
      "execution_count": null,
      "outputs": []
    }
  ]
}